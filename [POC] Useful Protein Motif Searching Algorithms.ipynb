{
 "cells": [
  {
   "cell_type": "markdown",
   "metadata": {},
   "source": [
    "# Developing Useful Algorithms for MVP of SeqMo-ID"
   ]
  },
  {
   "cell_type": "markdown",
   "metadata": {},
   "source": [
    "## Algorithm(s) functionality:"
   ]
  },
  {
   "cell_type": "markdown",
   "metadata": {},
   "source": [
    "We want to make an algorithm or algorithms that can do the following:\n",
    "- At a very basic level, it should be able to take a user input of a motif and find that motif in a single sequence of amino acids. Let's see if we can do this with _binary search_ methods"
   ]
  },
  {
   "cell_type": "code",
   "execution_count": 1,
   "metadata": {},
   "outputs": [],
   "source": [
    "import re"
   ]
  },
  {
   "cell_type": "code",
   "execution_count": 2,
   "metadata": {},
   "outputs": [],
   "source": [
    "with open('single_protein.txt', 'r') as file:\n",
    "    sequence = file.read()\n",
    "    file.close()"
   ]
  },
  {
   "cell_type": "code",
   "execution_count": 3,
   "metadata": {},
   "outputs": [
    {
     "data": {
      "text/plain": "'MEDKF'"
     },
     "execution_count": 3,
     "metadata": {},
     "output_type": "execute_result"
    }
   ],
   "source": [
    "sequence[0:5]"
   ]
  },
  {
   "cell_type": "code",
   "execution_count": 184,
   "metadata": {},
   "outputs": [],
   "source": [
    " def searchmotif(motif, seq):\n",
    "        hits = motif.finditer(str(seq))\n",
    "        n = 0\n",
    "        mot_spec = []\n",
    "        mot_freq = []\n",
    "        for hsp in hits:\n",
    "            n += 1\n",
    "            mot_spec.append((hsp.start(), hsp.end(), hsp.group()))\n",
    "            mot_freq.append(n)\n",
    "        return mot_spec"
   ]
  },
  {
   "cell_type": "code",
   "execution_count": 185,
   "metadata": {},
   "outputs": [],
   "source": [
    "mot2search = re.compile('SP')"
   ]
  },
  {
   "cell_type": "code",
   "execution_count": 186,
   "metadata": {},
   "outputs": [],
   "source": [
    "seq1Motif = searchmotif(mot2search,sequence)"
   ]
  },
  {
   "cell_type": "code",
   "execution_count": 187,
   "metadata": {},
   "outputs": [
    {
     "data": {
      "text/plain": "[(82, 84, 'SP'), (247, 249, 'SP'), (414, 416, 'SP')]"
     },
     "execution_count": 187,
     "metadata": {},
     "output_type": "execute_result"
    }
   ],
   "source": [
    "seq1Motif"
   ]
  },
  {
   "cell_type": "code",
   "execution_count": 191,
   "metadata": {},
   "outputs": [
    {
     "data": {
      "text/plain": "247"
     },
     "execution_count": 191,
     "metadata": {},
     "output_type": "execute_result"
    }
   ],
   "source": [
    "seq1Motif[0][0]"
   ]
  },
  {
   "cell_type": "code",
   "execution_count": 165,
   "metadata": {},
   "outputs": [],
   "source": [
    "def checkType(a_list):\n",
    "    types = []\n",
    "    for element in a_list:\n",
    "        if isinstance(element, int):\n",
    "            types.append('int')\n",
    "        if isinstance(element, str):\n",
    "            types.append(\"str\")\n",
    "        if isinstance(element, float):\n",
    "            types.append(\"float\")\n",
    "        if isinstance(element, tuple):\n",
    "            types.append(\"tuple\")\n",
    "    result = list(zip(a_list,types))\n",
    "    return result"
   ]
  },
  {
   "cell_type": "code",
   "execution_count": 166,
   "metadata": {},
   "outputs": [],
   "source": [
    "typeList = checkType(seq1Motif)"
   ]
  },
  {
   "cell_type": "code",
   "execution_count": 168,
   "metadata": {},
   "outputs": [
    {
     "data": {
      "text/plain": "[((82, 84, 'SP'), 'tuple'),\n ((247, 249, 'SP'), 'tuple'),\n ((414, 416, 'SP'), 'tuple')]"
     },
     "execution_count": 168,
     "metadata": {},
     "output_type": "execute_result"
    }
   ],
   "source": [
    "typeList"
   ]
  },
  {
   "cell_type": "code",
   "execution_count": 664,
   "metadata": {},
   "outputs": [],
   "source": [
    "class Scoring: \n",
    "\n",
    "   def extract(list):\n",
    "       return [item[0] for item in list] \n",
    "   \n",
    "   def refPoint(search):\n",
    "       refPoints = [item[0] for item in search]\n",
    "       return refPoints\n",
    "       \n",
    "   def diffScore(search):\n",
    "       \"\"\" This function finds the difference in location\n",
    "       between the nth and the (n + 1)th  occurrence of \n",
    "       the protein motif\"\"\"\n",
    "       refPoints = Scoring.refPoint(search)\n",
    "       diffScores = [y-x for x,y in zip(refPoints,refPoints[1:])]\n",
    "       return diffScores\n",
    "\n",
    "   def anchorDict(refs, diffs):\n",
    "       keys = diffs\n",
    "       values = [[x,y] for x,y in zip(refs,refs[1:])] \n",
    "       anchor = dict(zip(keys,values))\n",
    "       return anchor\n",
    "   \n",
    "   def isConservedAt(testDict, anchorDict):\n",
    "       dict1Set = set(testDict)\n",
    "       dict2Set = set(anchorDict)\n",
    "       conservList = []\n",
    "       for key in dict1Set.intersection(dict2Set):\n",
    "           conservList.append(anchorDict[key])\n",
    "       results =  sorted(Scoring.extract(conservList))\n",
    "       for i, item in enumerate(results, 1): \n",
    "           print('The test protein is conserved at position', item)\n",
    "    "
   ]
  },
  {
   "cell_type": "code",
   "execution_count": 665,
   "metadata": {},
   "outputs": [
    {
     "data": {
      "text/plain": "[165, 167]"
     },
     "execution_count": 665,
     "metadata": {},
     "output_type": "execute_result"
    }
   ],
   "source": [
    "diff = Scoring.diffScore(seq1Motif)\n",
    "diff"
   ]
  },
  {
   "cell_type": "code",
   "execution_count": 666,
   "metadata": {},
   "outputs": [
    {
     "data": {
      "text/plain": "[82, 247, 414]"
     },
     "execution_count": 666,
     "metadata": {},
     "output_type": "execute_result"
    }
   ],
   "source": [
    "ref = Scoring.refPoint(seq1Motif)\n",
    "ref"
   ]
  },
  {
   "cell_type": "code",
   "execution_count": 667,
   "metadata": {},
   "outputs": [
    {
     "data": {
      "text/plain": "{165: [82, 247], 167: [247, 414]}"
     },
     "execution_count": 667,
     "metadata": {},
     "output_type": "execute_result"
    }
   ],
   "source": [
    "dict1 = Scoring.anchorDict(ref,diff)\n",
    "dict1\n",
    "\n",
    "# plus or minus 5"
   ]
  },
  {
   "cell_type": "code",
   "execution_count": 668,
   "metadata": {},
   "outputs": [],
   "source": [
    "dict2 = {165: [540,705], 167: [32,199], 168: [8,176]}"
   ]
  },
  {
   "cell_type": "code",
   "execution_count": 669,
   "metadata": {},
   "outputs": [
    {
     "name": "stdout",
     "output_type": "stream",
     "text": "The test protein is conserved at position 32\nThe test protein is conserved at position 540\n"
    }
   ],
   "source": [
    "Scoring.isConservedAt(dict1,dict2)"
   ]
  },
  {
   "cell_type": "code",
   "execution_count": null,
   "metadata": {},
   "outputs": [],
   "source": []
  }
 ],
 "metadata": {
  "kernelspec": {
   "display_name": "Python 3",
   "language": "python",
   "name": "python3"
  },
  "language_info": {
   "codemirror_mode": {
    "name": "ipython",
    "version": 3
   },
   "file_extension": ".py",
   "mimetype": "text/x-python",
   "name": "python",
   "nbconvert_exporter": "python",
   "pygments_lexer": "ipython3",
   "version": "3.6.9-final"
  }
 },
 "nbformat": 4,
 "nbformat_minor": 4
}