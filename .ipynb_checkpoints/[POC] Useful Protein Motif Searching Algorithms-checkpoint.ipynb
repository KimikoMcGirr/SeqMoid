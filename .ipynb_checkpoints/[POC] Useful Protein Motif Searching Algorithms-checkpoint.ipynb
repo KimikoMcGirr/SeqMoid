{
 "cells": [
  {
   "cell_type": "markdown",
   "metadata": {},
   "source": [
    "# Developing Useful Algorithms for MVP of SeqMo-ID"
   ]
  },
  {
   "cell_type": "markdown",
   "metadata": {},
   "source": [
    "### Algorithm(s) functionality:"
   ]
  },
  {
   "cell_type": "markdown",
   "metadata": {},
   "source": [
    "We want to make an algorithm or algorithms that can do the following:\n",
    "- At a very basic level, it should be able to take a user input of a motif and find that motif in a single sequence of amino acids. Let's see if we can do this with _binary search_ methods"
   ]
  },
  {
   "cell_type": "code",
   "execution_count": null,
   "metadata": {},
   "outputs": [],
   "source": []
  }
 ],
 "metadata": {
  "kernelspec": {
   "name": "python3",
   "display_name": "Python 3"
  }
 },
 "nbformat": 4,
 "nbformat_minor": 4
}