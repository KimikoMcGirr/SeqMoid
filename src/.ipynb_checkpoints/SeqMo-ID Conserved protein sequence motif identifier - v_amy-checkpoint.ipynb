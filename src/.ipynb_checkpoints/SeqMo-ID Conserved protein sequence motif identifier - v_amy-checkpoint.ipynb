{
 "cells": [
  {
   "cell_type": "markdown",
   "metadata": {},
   "source": [
    "# SeqMo-ID:"
   ]
  },
  {
   "cell_type": "markdown",
   "metadata": {},
   "source": [
    "markdown about seqmoid"
   ]
  },
  {
   "cell_type": "markdown",
   "metadata": {},
   "source": [
    "# Packages and settings"
   ]
  },
  {
   "cell_type": "code",
   "execution_count": 9,
   "metadata": {
    "ExecuteTime": {
     "end_time": "2020-03-13T17:35:43.643597Z",
     "start_time": "2020-03-13T17:35:43.593865Z"
    },
    "collapsed": true
   },
   "outputs": [],
   "source": [
    "%matplotlib inline\n",
    "import os\n",
    "import re\n",
    "import string\n",
    "import pandas as pd\n",
    "import matplotlib.pyplot as plt\n",
    "import seaborn as sns\n",
    "from collections import Counter\n",
    "import numpy as np"
   ]
  },
  {
   "cell_type": "code",
   "execution_count": 10,
   "metadata": {
    "ExecuteTime": {
     "end_time": "2020-03-13T17:35:43.968888Z",
     "start_time": "2020-03-13T17:35:43.911894Z"
    },
    "collapsed": false
   },
   "outputs": [
    {
     "name": "stdout",
     "output_type": "stream",
     "text": [
      "The autoreload extension is already loaded. To reload it, use:\n",
      "  %reload_ext autoreload\n"
     ]
    }
   ],
   "source": [
    "%load_ext autoreload\n",
    "%autoreload 2\n",
    "\n",
    "import sys\n",
    "sys.path.insert(1, './src')\n",
    "\n",
    "import reader"
   ]
  },
  {
   "cell_type": "code",
   "execution_count": 11,
   "metadata": {
    "ExecuteTime": {
     "end_time": "2020-03-13T17:35:44.335559Z",
     "start_time": "2020-03-13T17:35:44.262274Z"
    },
    "collapsed": true
   },
   "outputs": [],
   "source": [
    "sns.set(style=\"whitegrid\")\n",
    "plt.rcParams['figure.figsize'] = [10.0, 8.0]\n",
    "plt.rcParams['axes.titlesize'] = 20\n",
    "plt.rcParams['axes.labelsize'] = 18\n",
    "plt.rcParams['xtick.labelsize'] = 14\n",
    "plt.rcParams['ytick.labelsize'] = 14\n",
    "plt.rcParams['grid.linestyle'] = '-'\n",
    "plt.rcParams['legend.fontsize'] = 14\n",
    "colors = [i['color'] for i in plt.rcParams['axes.prop_cycle']]"
   ]
  },
  {
   "cell_type": "markdown",
   "metadata": {},
   "source": [
    "# Get Data from NCBI"
   ]
  },
  {
   "cell_type": "code",
   "execution_count": 12,
   "metadata": {
    "ExecuteTime": {
     "end_time": "2020-03-13T17:35:45.032667Z",
     "start_time": "2020-03-13T17:35:44.983322Z"
    },
    "code_folding": [],
    "collapsed": true
   },
   "outputs": [],
   "source": [
    "### ADD BASH COMMANDS ###"
   ]
  },
  {
   "cell_type": "markdown",
   "metadata": {},
   "source": [
    "## Test data\n",
    "out.faa -> fasta file output from edirect pipeline"
   ]
  },
  {
   "cell_type": "code",
   "execution_count": 139,
   "metadata": {
    "ExecuteTime": {
     "end_time": "2020-03-13T18:25:26.764295Z",
     "start_time": "2020-03-13T18:25:26.620485Z"
    },
    "collapsed": false,
    "scrolled": true
   },
   "outputs": [],
   "source": [
    "hog1 = reader.Reader('out.faa','test_hog1.faa','hog1')\n",
    "ptp3 = reader.Reader('ptp3_out.faa','ptp3')\n",
    "hrk = reader.Reader('Hkr_out.faa','hrk')\n",
    "ste50 = reader.Reader('ste50_out.faa','ste50')\n",
    "protein_list = [hog1, ptp3, hrk, ste50]\n",
    "protein_names = ['Hog1','Ptp3','Hrk','Ste50']"
   ]
  },
  {
   "cell_type": "markdown",
   "metadata": {},
   "source": [
    "## Extract gene IDs and strain IDs from gene annotations"
   ]
  },
  {
   "cell_type": "code",
   "execution_count": 73,
   "metadata": {
    "ExecuteTime": {
     "end_time": "2020-03-13T17:59:25.268602Z",
     "start_time": "2020-03-13T17:59:25.173088Z"
    },
    "code_folding": [],
    "collapsed": false,
    "scrolled": true
   },
   "outputs": [],
   "source": [
    "# Parse headers to get geneID and strainID lists for EACH protein \n",
    "geneID = [[]]*len(protein_list)\n",
    "strainID = [[]]*len(protein_list)\n",
    "for p,protein in enumerate(protein_list):\n",
    "    tuples, headers, seqs = protein.get_data()\n",
    "    geneID[p] = []\n",
    "    strainID[p] = []\n",
    "    for i in range(len(headers)):\n",
    "        geneID[p].append(headers[i].split('>')[1].split(' ')[0])\n",
    "        strainID[p].append(headers[i].split(']')[0].split(' ')[len(headers[i].split(']')[0].split(' '))-1])"
   ]
  },
  {
   "cell_type": "markdown",
   "metadata": {},
   "source": [
    "# Identify conserved motifs"
   ]
  },
  {
   "cell_type": "code",
   "execution_count": 15,
   "metadata": {
    "ExecuteTime": {
     "end_time": "2020-03-13T17:35:47.258907Z",
     "start_time": "2020-03-13T17:35:47.207727Z"
    },
    "code_folding": [
     0
    ],
    "collapsed": true
   },
   "outputs": [],
   "source": [
    "## USER INPUTS ## \n",
    "\n",
    "# Motif sequence \n",
    "mot2search = re.compile('SP')\n",
    "\n",
    "# Reference sequence number\n",
    "ref_num = 0"
   ]
  },
  {
   "cell_type": "code",
   "execution_count": 94,
   "metadata": {
    "ExecuteTime": {
     "end_time": "2020-03-13T18:05:17.097748Z",
     "start_time": "2020-03-13T18:05:17.050986Z"
    },
    "code_folding": [
     0,
     1
    ],
    "collapsed": true
   },
   "outputs": [],
   "source": [
    "# Define functions \n",
    "def searchmotif(motif, seq):\n",
    "        hits = motif.finditer(str(seq))\n",
    "        n = 0\n",
    "        mot_spec = []\n",
    "        mot_freq = []\n",
    "        for hsp in hits:\n",
    "            n += 1\n",
    "            mot_spec.append((hsp.start(), hsp.end(), hsp.group()))\n",
    "            mot_freq.append(n)\n",
    "        return mot_spec\n",
    "\n",
    "class Scoring: \n",
    "\n",
    "    def extract(list):\n",
    "        return [item[0] for item in list] \n",
    "   \n",
    "    def refPoint(search):\n",
    "        refPoints = [item[0] for item in search]\n",
    "        return refPoints\n",
    "\n",
    "\n",
    "    def diffScore(search):\n",
    "        \"\"\" This function finds the difference in location\n",
    "        between the nth and the (n + 1)th  occurrence of \n",
    "        the protein motif\"\"\"\n",
    "        refPoints = Scoring.refPoint(search)\n",
    "        diffScores = [y-x for x,y in zip(refPoints,refPoints[1:])]\n",
    "        return diffScores\n",
    "\n",
    "    def anchorDict(refs, diffs):\n",
    "        keys = diffs\n",
    "        values = [[x,y] for x,y in zip(refs,refs[1:])] \n",
    "        anchor = dict(zip(keys,values))\n",
    "        return anchor\n",
    "   \n",
    "    def isConservedAt(testDict, anchorDict):\n",
    "        dict1Set = set(testDict)\n",
    "        dict2Set = set(anchorDict)\n",
    "        conservList = []\n",
    "        for key in dict1Set.intersection(dict2Set):\n",
    "            conservList.append(anchorDict[key])\n",
    "        results =  flat_list = [item for sublist in conservList for item in sublist]\n",
    "        condensed_results = list(dict.fromkeys(results))\n",
    "        return condensed_results"
   ]
  },
  {
   "cell_type": "code",
   "execution_count": 83,
   "metadata": {
    "ExecuteTime": {
     "end_time": "2020-03-13T18:03:28.081196Z",
     "start_time": "2020-03-13T18:03:27.972092Z"
    },
    "code_folding": [],
    "collapsed": false
   },
   "outputs": [],
   "source": [
    "# Calculate all necessary information\n",
    "diff = [[]]*len(protein_list)\n",
    "ref = [[]]*len(protein_list)\n",
    "dicts = [[]]*len(protein_list)\n",
    "for p,protein in enumerate(protein_list):\n",
    "    tuples, headers, seqs = protein.get_data()\n",
    "    diff[p] = []\n",
    "    ref[p] = []\n",
    "    dicts[p] = []\n",
    "    for i in range(len(seqs)):\n",
    "        seq1Motif = searchmotif(mot2search,seqs[i])\n",
    "        diff[p].append(Scoring.diffScore(seq1Motif))\n",
    "        ref[p].append(Scoring.refPoint(seq1Motif))\n",
    "        dicts[p].append(Scoring.anchorDict(ref[p][i],diff[p][i]))"
   ]
  },
  {
   "cell_type": "markdown",
   "metadata": {
    "ExecuteTime": {
     "end_time": "2020-03-13T14:14:32.270150Z",
     "start_time": "2020-03-13T14:14:32.207394Z"
    }
   },
   "source": [
    "# Create tables summarizing conserved motifs"
   ]
  },
  {
   "cell_type": "code",
   "execution_count": 132,
   "metadata": {
    "ExecuteTime": {
     "end_time": "2020-03-13T18:20:47.965190Z",
     "start_time": "2020-03-13T18:20:47.767817Z"
    },
    "collapsed": false
   },
   "outputs": [
    {
     "name": "stdout",
     "output_type": "stream",
     "text": [
      "<reader.Reader object at 0x1a1d955080>\n",
      "<reader.Reader object at 0x1a1d9558d0>\n",
      "<reader.Reader object at 0x1a1d9555c0>\n",
      "<reader.Reader object at 0x1a1d955a58>\n"
     ]
    }
   ],
   "source": [
    "detailed_dicts = []\n",
    "for p,protein in enumerate(protein_list):\n",
    "    tuples, headers, seqs = protein.get_data()\n",
    "\n",
    "    detailed = {'Gene ID':geneID[p], 'Strain ID':strainID[p]}\n",
    "\n",
    "    conservation = np.empty([len(seqs),len(ref[p][ref_num])])\n",
    "    new_motifs = []\n",
    "    for i in range(len(seqs)):\n",
    "        conserved = Scoring.isConservedAt(dicts[p][i],dicts[p][ref_num])\n",
    "        for j in range(min(len(ref[p][i]),len(ref[p][ref_num]))):\n",
    "            if ref[p][i][j] in conserved:\n",
    "                conservation[i][j] = True\n",
    "            else:\n",
    "                conservation[i][j] = False\n",
    "        new_motifs += [len(ref[p][i])-len(conserved)]\n",
    "\n",
    "    for i in range(len(ref[p][ref_num])):\n",
    "        detailed['Reference position '+str(ref[p][ref_num][i])] = conservation[:,i] == True\n",
    "\n",
    "    detailed['# of new motifs'] = new_motifs\n",
    "    \n",
    "    detailed_dicts.append(detailed)\n",
    "    "
   ]
  },
  {
   "cell_type": "markdown",
   "metadata": {
    "ExecuteTime": {
     "end_time": "2020-03-13T18:21:06.891752Z",
     "start_time": "2020-03-13T18:21:06.844459Z"
    },
    "collapsed": false
   },
   "source": [
    "## Create detailed tables for each protein"
   ]
  },
  {
   "cell_type": "code",
   "execution_count": 135,
   "metadata": {
    "ExecuteTime": {
     "end_time": "2020-03-13T18:21:54.194808Z",
     "start_time": "2020-03-13T18:21:54.100465Z"
    },
    "collapsed": false
   },
   "outputs": [
    {
     "data": {
      "text/html": [
       "<div>\n",
       "<style scoped>\n",
       "    .dataframe tbody tr th:only-of-type {\n",
       "        vertical-align: middle;\n",
       "    }\n",
       "\n",
       "    .dataframe tbody tr th {\n",
       "        vertical-align: top;\n",
       "    }\n",
       "\n",
       "    .dataframe thead th {\n",
       "        text-align: right;\n",
       "    }\n",
       "</style>\n",
       "<table border=\"1\" class=\"dataframe\">\n",
       "  <thead>\n",
       "    <tr style=\"text-align: right;\">\n",
       "      <th></th>\n",
       "      <th>Gene ID</th>\n",
       "      <th>Strain ID</th>\n",
       "      <th>Reference position 90</th>\n",
       "      <th>Reference position 234</th>\n",
       "      <th># of new motifs</th>\n",
       "    </tr>\n",
       "  </thead>\n",
       "  <tbody>\n",
       "    <tr>\n",
       "      <th>0</th>\n",
       "      <td>DAA09427.1</td>\n",
       "      <td>S288C</td>\n",
       "      <td>True</td>\n",
       "      <td>True</td>\n",
       "      <td>0</td>\n",
       "    </tr>\n",
       "    <tr>\n",
       "      <th>1</th>\n",
       "      <td>EEU06881.1</td>\n",
       "      <td>JAY291</td>\n",
       "      <td>True</td>\n",
       "      <td>True</td>\n",
       "      <td>0</td>\n",
       "    </tr>\n",
       "    <tr>\n",
       "      <th>2</th>\n",
       "      <td>EGA73955.1</td>\n",
       "      <td>AWRI796</td>\n",
       "      <td>True</td>\n",
       "      <td>True</td>\n",
       "      <td>0</td>\n",
       "    </tr>\n",
       "    <tr>\n",
       "      <th>3</th>\n",
       "      <td>EGA77909.1</td>\n",
       "      <td>Vin13</td>\n",
       "      <td>True</td>\n",
       "      <td>True</td>\n",
       "      <td>0</td>\n",
       "    </tr>\n",
       "    <tr>\n",
       "      <th>4</th>\n",
       "      <td>EGA85827.1</td>\n",
       "      <td>VL3</td>\n",
       "      <td>True</td>\n",
       "      <td>True</td>\n",
       "      <td>0</td>\n",
       "    </tr>\n",
       "  </tbody>\n",
       "</table>\n",
       "</div>"
      ],
      "text/plain": [
       "      Gene ID Strain ID  Reference position 90  Reference position 234  \\\n",
       "0  DAA09427.1     S288C                   True                    True   \n",
       "1  EEU06881.1    JAY291                   True                    True   \n",
       "2  EGA73955.1   AWRI796                   True                    True   \n",
       "3  EGA77909.1     Vin13                   True                    True   \n",
       "4  EGA85827.1       VL3                   True                    True   \n",
       "\n",
       "   # of new motifs  \n",
       "0                0  \n",
       "1                0  \n",
       "2                0  \n",
       "3                0  \n",
       "4                0  "
      ]
     },
     "execution_count": 135,
     "metadata": {},
     "output_type": "execute_result"
    }
   ],
   "source": [
    "# Hog1\n",
    "Hog1_df = pd.DataFrame.from_dict(detailed_dicts[0])\n",
    "Hog1_df.head()"
   ]
  },
  {
   "cell_type": "code",
   "execution_count": 136,
   "metadata": {
    "ExecuteTime": {
     "end_time": "2020-03-13T18:22:25.992673Z",
     "start_time": "2020-03-13T18:22:25.933231Z"
    },
    "collapsed": false
   },
   "outputs": [
    {
     "data": {
      "text/html": [
       "<div>\n",
       "<style scoped>\n",
       "    .dataframe tbody tr th:only-of-type {\n",
       "        vertical-align: middle;\n",
       "    }\n",
       "\n",
       "    .dataframe tbody tr th {\n",
       "        vertical-align: top;\n",
       "    }\n",
       "\n",
       "    .dataframe thead th {\n",
       "        text-align: right;\n",
       "    }\n",
       "</style>\n",
       "<table border=\"1\" class=\"dataframe\">\n",
       "  <thead>\n",
       "    <tr style=\"text-align: right;\">\n",
       "      <th></th>\n",
       "      <th>Gene ID</th>\n",
       "      <th>Strain ID</th>\n",
       "      <th>Reference position 52</th>\n",
       "      <th>Reference position 57</th>\n",
       "      <th>Reference position 66</th>\n",
       "      <th>Reference position 247</th>\n",
       "      <th>Reference position 271</th>\n",
       "      <th>Reference position 294</th>\n",
       "      <th>Reference position 296</th>\n",
       "      <th>Reference position 304</th>\n",
       "      <th>Reference position 310</th>\n",
       "      <th># of new motifs</th>\n",
       "    </tr>\n",
       "  </thead>\n",
       "  <tbody>\n",
       "    <tr>\n",
       "      <th>0</th>\n",
       "      <td>DAA07735.2</td>\n",
       "      <td>S288C</td>\n",
       "      <td>True</td>\n",
       "      <td>True</td>\n",
       "      <td>True</td>\n",
       "      <td>True</td>\n",
       "      <td>True</td>\n",
       "      <td>True</td>\n",
       "      <td>True</td>\n",
       "      <td>True</td>\n",
       "      <td>True</td>\n",
       "      <td>0</td>\n",
       "    </tr>\n",
       "    <tr>\n",
       "      <th>1</th>\n",
       "      <td>EEU06494.1</td>\n",
       "      <td>JAY291</td>\n",
       "      <td>True</td>\n",
       "      <td>True</td>\n",
       "      <td>True</td>\n",
       "      <td>True</td>\n",
       "      <td>True</td>\n",
       "      <td>True</td>\n",
       "      <td>True</td>\n",
       "      <td>True</td>\n",
       "      <td>True</td>\n",
       "      <td>0</td>\n",
       "    </tr>\n",
       "    <tr>\n",
       "      <th>2</th>\n",
       "      <td>EGA79204.1</td>\n",
       "      <td>Vin13</td>\n",
       "      <td>False</td>\n",
       "      <td>False</td>\n",
       "      <td>False</td>\n",
       "      <td>False</td>\n",
       "      <td>False</td>\n",
       "      <td>False</td>\n",
       "      <td>False</td>\n",
       "      <td>False</td>\n",
       "      <td>False</td>\n",
       "      <td>0</td>\n",
       "    </tr>\n",
       "    <tr>\n",
       "      <th>3</th>\n",
       "      <td>CAY79250.1</td>\n",
       "      <td>EC1118</td>\n",
       "      <td>True</td>\n",
       "      <td>True</td>\n",
       "      <td>True</td>\n",
       "      <td>True</td>\n",
       "      <td>True</td>\n",
       "      <td>True</td>\n",
       "      <td>True</td>\n",
       "      <td>True</td>\n",
       "      <td>True</td>\n",
       "      <td>0</td>\n",
       "    </tr>\n",
       "    <tr>\n",
       "      <th>4</th>\n",
       "      <td>GAA22908.1</td>\n",
       "      <td>7</td>\n",
       "      <td>True</td>\n",
       "      <td>True</td>\n",
       "      <td>True</td>\n",
       "      <td>True</td>\n",
       "      <td>True</td>\n",
       "      <td>True</td>\n",
       "      <td>True</td>\n",
       "      <td>True</td>\n",
       "      <td>True</td>\n",
       "      <td>0</td>\n",
       "    </tr>\n",
       "  </tbody>\n",
       "</table>\n",
       "</div>"
      ],
      "text/plain": [
       "      Gene ID Strain ID  Reference position 52  Reference position 57  \\\n",
       "0  DAA07735.2     S288C                   True                   True   \n",
       "1  EEU06494.1    JAY291                   True                   True   \n",
       "2  EGA79204.1     Vin13                  False                  False   \n",
       "3  CAY79250.1    EC1118                   True                   True   \n",
       "4  GAA22908.1         7                   True                   True   \n",
       "\n",
       "   Reference position 66  Reference position 247  Reference position 271  \\\n",
       "0                   True                    True                    True   \n",
       "1                   True                    True                    True   \n",
       "2                  False                   False                   False   \n",
       "3                   True                    True                    True   \n",
       "4                   True                    True                    True   \n",
       "\n",
       "   Reference position 294  Reference position 296  Reference position 304  \\\n",
       "0                    True                    True                    True   \n",
       "1                    True                    True                    True   \n",
       "2                   False                   False                   False   \n",
       "3                    True                    True                    True   \n",
       "4                    True                    True                    True   \n",
       "\n",
       "   Reference position 310  # of new motifs  \n",
       "0                    True                0  \n",
       "1                    True                0  \n",
       "2                   False                0  \n",
       "3                    True                0  \n",
       "4                    True                0  "
      ]
     },
     "execution_count": 136,
     "metadata": {},
     "output_type": "execute_result"
    }
   ],
   "source": [
    "# Ptp3\n",
    "Ptp3_df = pd.DataFrame.from_dict(detailed_dicts[1])\n",
    "Ptp3_df.head()"
   ]
  },
  {
   "cell_type": "code",
   "execution_count": 143,
   "metadata": {
    "ExecuteTime": {
     "end_time": "2020-03-13T18:26:56.857321Z",
     "start_time": "2020-03-13T18:26:56.777622Z"
    },
    "collapsed": false
   },
   "outputs": [
    {
     "data": {
      "text/plain": [
       "Reference position 176     0.921053\n",
       "Reference position 280     0.921053\n",
       "Reference position 427     0.912281\n",
       "Reference position 464     0.912281\n",
       "Reference position 478     0.000000\n",
       "Reference position 492     0.000000\n",
       "Reference position 506     0.000000\n",
       "Reference position 520     0.000000\n",
       "Reference position 534     0.000000\n",
       "Reference position 548     0.000000\n",
       "Reference position 562     0.000000\n",
       "Reference position 576     0.000000\n",
       "Reference position 590     0.000000\n",
       "Reference position 604     0.000000\n",
       "Reference position 618     0.000000\n",
       "Reference position 632     0.043860\n",
       "Reference position 646     0.000000\n",
       "Reference position 660     0.000000\n",
       "Reference position 674     0.000000\n",
       "Reference position 688     0.000000\n",
       "Reference position 702     0.000000\n",
       "Reference position 716     0.000000\n",
       "Reference position 730     0.000000\n",
       "Reference position 744     0.000000\n",
       "Reference position 758     0.000000\n",
       "Reference position 772     0.000000\n",
       "Reference position 786     0.004386\n",
       "Reference position 793     0.004386\n",
       "Reference position 807     0.004386\n",
       "Reference position 821     0.004386\n",
       "Reference position 844     0.004386\n",
       "Reference position 846     0.004386\n",
       "Reference position 951     0.004386\n",
       "Reference position 1203    0.004386\n",
       "Reference position 1321    0.004386\n",
       "# of new motifs            9.600877\n",
       "dtype: float64"
      ]
     },
     "execution_count": 143,
     "metadata": {},
     "output_type": "execute_result"
    }
   ],
   "source": [
    "# Hrk\n",
    "Hrk_df = pd.DataFrame.from_dict(detailed_dicts[2])\n",
    "Hrk_df.head()"
   ]
  },
  {
   "cell_type": "code",
   "execution_count": 138,
   "metadata": {
    "ExecuteTime": {
     "end_time": "2020-03-13T18:23:53.309494Z",
     "start_time": "2020-03-13T18:23:53.147988Z"
    },
    "collapsed": false
   },
   "outputs": [
    {
     "data": {
      "text/html": [
       "<div>\n",
       "<style scoped>\n",
       "    .dataframe tbody tr th:only-of-type {\n",
       "        vertical-align: middle;\n",
       "    }\n",
       "\n",
       "    .dataframe tbody tr th {\n",
       "        vertical-align: top;\n",
       "    }\n",
       "\n",
       "    .dataframe thead th {\n",
       "        text-align: right;\n",
       "    }\n",
       "</style>\n",
       "<table border=\"1\" class=\"dataframe\">\n",
       "  <thead>\n",
       "    <tr style=\"text-align: right;\">\n",
       "      <th></th>\n",
       "      <th>Gene ID</th>\n",
       "      <th>Strain ID</th>\n",
       "      <th>Reference position 15</th>\n",
       "      <th>Reference position 154</th>\n",
       "      <th>Reference position 195</th>\n",
       "      <th>Reference position 201</th>\n",
       "      <th>Reference position 247</th>\n",
       "      <th># of new motifs</th>\n",
       "    </tr>\n",
       "  </thead>\n",
       "  <tbody>\n",
       "    <tr>\n",
       "      <th>0</th>\n",
       "      <td>DAA07452.1</td>\n",
       "      <td>S288C</td>\n",
       "      <td>True</td>\n",
       "      <td>True</td>\n",
       "      <td>True</td>\n",
       "      <td>True</td>\n",
       "      <td>True</td>\n",
       "      <td>0</td>\n",
       "    </tr>\n",
       "    <tr>\n",
       "      <th>1</th>\n",
       "      <td>EDV09681.1</td>\n",
       "      <td>RM11-1a</td>\n",
       "      <td>True</td>\n",
       "      <td>True</td>\n",
       "      <td>True</td>\n",
       "      <td>True</td>\n",
       "      <td>True</td>\n",
       "      <td>0</td>\n",
       "    </tr>\n",
       "    <tr>\n",
       "      <th>2</th>\n",
       "      <td>EEU06064.1</td>\n",
       "      <td>JAY291</td>\n",
       "      <td>True</td>\n",
       "      <td>True</td>\n",
       "      <td>True</td>\n",
       "      <td>True</td>\n",
       "      <td>True</td>\n",
       "      <td>0</td>\n",
       "    </tr>\n",
       "    <tr>\n",
       "      <th>3</th>\n",
       "      <td>EGA75839.1</td>\n",
       "      <td>AWRI796</td>\n",
       "      <td>True</td>\n",
       "      <td>True</td>\n",
       "      <td>True</td>\n",
       "      <td>True</td>\n",
       "      <td>True</td>\n",
       "      <td>0</td>\n",
       "    </tr>\n",
       "    <tr>\n",
       "      <th>4</th>\n",
       "      <td>EGA79759.1</td>\n",
       "      <td>Vin13</td>\n",
       "      <td>True</td>\n",
       "      <td>True</td>\n",
       "      <td>False</td>\n",
       "      <td>False</td>\n",
       "      <td>False</td>\n",
       "      <td>0</td>\n",
       "    </tr>\n",
       "  </tbody>\n",
       "</table>\n",
       "</div>"
      ],
      "text/plain": [
       "      Gene ID Strain ID  Reference position 15  Reference position 154  \\\n",
       "0  DAA07452.1     S288C                   True                    True   \n",
       "1  EDV09681.1   RM11-1a                   True                    True   \n",
       "2  EEU06064.1    JAY291                   True                    True   \n",
       "3  EGA75839.1   AWRI796                   True                    True   \n",
       "4  EGA79759.1     Vin13                   True                    True   \n",
       "\n",
       "   Reference position 195  Reference position 201  Reference position 247  \\\n",
       "0                    True                    True                    True   \n",
       "1                    True                    True                    True   \n",
       "2                    True                    True                    True   \n",
       "3                    True                    True                    True   \n",
       "4                   False                   False                   False   \n",
       "\n",
       "   # of new motifs  \n",
       "0                0  \n",
       "1                0  \n",
       "2                0  \n",
       "3                0  \n",
       "4                0  "
      ]
     },
     "execution_count": 138,
     "metadata": {},
     "output_type": "execute_result"
    }
   ],
   "source": [
    "# Hrk\n",
    "Ste50_df = pd.DataFrame.from_dict(detailed_dicts[3])\n",
    "Ste50_df.head()"
   ]
  },
  {
   "cell_type": "markdown",
   "metadata": {},
   "source": [
    "## Create summary table for all proteins"
   ]
  },
  {
   "cell_type": "code",
   "execution_count": 163,
   "metadata": {
    "ExecuteTime": {
     "end_time": "2020-03-13T18:33:21.980773Z",
     "start_time": "2020-03-13T18:33:21.807424Z"
    },
    "collapsed": false
   },
   "outputs": [],
   "source": [
    "series = []\n",
    "series.append(Hrk_df.mean()[Hrk_df.mean()>0][:len(Hrk_df.mean()[Hrk_df.mean()>0])-1])"
   ]
  },
  {
   "cell_type": "code",
   "execution_count": null,
   "metadata": {
    "collapsed": true
   },
   "outputs": [],
   "source": []
  }
 ],
 "metadata": {
  "anaconda-cloud": {},
  "hide_input": false,
  "kernelspec": {
   "display_name": "Python [python3]",
   "language": "python",
   "name": "Python [python3]"
  },
  "language_info": {
   "codemirror_mode": {
    "name": "ipython",
    "version": 3
   },
   "file_extension": ".py",
   "mimetype": "text/x-python",
   "name": "python",
   "nbconvert_exporter": "python",
   "pygments_lexer": "ipython3",
   "version": "3.6.8"
  },
  "latex_envs": {
   "LaTeX_envs_menu_present": true,
   "autocomplete": true,
   "bibliofile": "biblio.bib",
   "cite_by": "apalike",
   "current_citInitial": 1,
   "eqLabelWithNumbers": true,
   "eqNumInitial": 1,
   "hotkeys": {
    "equation": "Ctrl-E",
    "itemize": "Ctrl-I"
   },
   "labels_anchors": false,
   "latex_user_defs": false,
   "report_style_numbering": false,
   "user_envs_cfg": false
  },
  "toc": {
   "colors": {
    "hover_highlight": "#DAA520",
    "navigate_num": "#000000",
    "navigate_text": "#333333",
    "running_highlight": "#FF0000",
    "selected_highlight": "#FFD700",
    "sidebar_border": "#EEEEEE",
    "wrapper_background": "#FFFFFF"
   },
   "moveMenuLeft": true,
   "nav_menu": {
    "height": "84px",
    "width": "252px"
   },
   "navigate_menu": true,
   "number_sections": true,
   "sideBar": true,
   "threshold": 4,
   "toc_cell": false,
   "toc_section_display": "block",
   "toc_window_display": false,
   "widenNotebook": false
  },
  "varInspector": {
   "cols": {
    "lenName": 16,
    "lenType": 16,
    "lenVar": 40
   },
   "kernels_config": {
    "python": {
     "delete_cmd_postfix": "",
     "delete_cmd_prefix": "del ",
     "library": "var_list.py",
     "varRefreshCmd": "print(var_dic_list())"
    },
    "r": {
     "delete_cmd_postfix": ") ",
     "delete_cmd_prefix": "rm(",
     "library": "var_list.r",
     "varRefreshCmd": "cat(var_dic_list()) "
    }
   },
   "types_to_exclude": [
    "module",
    "function",
    "builtin_function_or_method",
    "instance",
    "_Feature"
   ],
   "window_display": false
  }
 },
 "nbformat": 4,
 "nbformat_minor": 2
}
