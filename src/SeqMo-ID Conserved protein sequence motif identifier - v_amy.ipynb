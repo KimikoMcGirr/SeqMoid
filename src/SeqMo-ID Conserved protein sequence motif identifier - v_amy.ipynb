{
 "cells": [
  {
   "cell_type": "markdown",
   "metadata": {},
   "source": [
    "# SeqMo-ID:"
   ]
  },
  {
   "cell_type": "markdown",
   "metadata": {},
   "source": [
    "markdown about seqmoid"
   ]
  },
  {
   "cell_type": "markdown",
   "metadata": {},
   "source": [
    "# Packages and settings"
   ]
  },
  {
   "cell_type": "code",
   "execution_count": 1,
   "metadata": {
    "ExecuteTime": {
     "end_time": "2020-03-13T13:34:07.112986Z",
     "start_time": "2020-03-13T13:34:04.692311Z"
    },
    "collapsed": true
   },
   "outputs": [],
   "source": [
    "%matplotlib inline\n",
    "import os\n",
    "import re\n",
    "import string\n",
    "import pandas as pd\n",
    "import matplotlib.pyplot as plt\n",
    "import seaborn as sns\n",
    "from collections import Counter\n",
    "import numpy as np"
   ]
  },
  {
   "cell_type": "code",
   "execution_count": 2,
   "metadata": {
    "ExecuteTime": {
     "end_time": "2020-03-13T13:34:21.955591Z",
     "start_time": "2020-03-13T13:34:21.776648Z"
    },
    "collapsed": false
   },
   "outputs": [],
   "source": [
    "%load_ext autoreload\n",
    "%autoreload 2\n",
    "\n",
    "import sys\n",
    "sys.path.insert(1, './src')\n",
    "\n",
    "import reader"
   ]
  },
  {
   "cell_type": "code",
   "execution_count": 3,
   "metadata": {
    "ExecuteTime": {
     "end_time": "2020-03-13T13:34:26.132990Z",
     "start_time": "2020-03-13T13:34:26.059444Z"
    },
    "collapsed": true
   },
   "outputs": [],
   "source": [
    "sns.set(style=\"whitegrid\")\n",
    "plt.rcParams['figure.figsize'] = [10.0, 8.0]\n",
    "plt.rcParams['axes.titlesize'] = 20\n",
    "plt.rcParams['axes.labelsize'] = 18\n",
    "plt.rcParams['xtick.labelsize'] = 14\n",
    "plt.rcParams['ytick.labelsize'] = 14\n",
    "plt.rcParams['grid.linestyle'] = '-'\n",
    "plt.rcParams['legend.fontsize'] = 14\n",
    "colors = [i['color'] for i in plt.rcParams['axes.prop_cycle']]"
   ]
  },
  {
   "cell_type": "markdown",
   "metadata": {},
   "source": [
    "# Get Data from NCBI"
   ]
  },
  {
   "cell_type": "code",
   "execution_count": 12,
   "metadata": {
    "ExecuteTime": {
     "end_time": "2020-03-12T21:45:29.335524Z",
     "start_time": "2020-03-12T21:45:29.219834Z"
    },
    "code_folding": [],
    "collapsed": true
   },
   "outputs": [],
   "source": [
    "### ADD BASH COMMANDS ###"
   ]
  },
  {
   "cell_type": "markdown",
   "metadata": {},
   "source": [
    "## Test data\n",
    "out.faa -> fasta file output from edirect pipeline"
   ]
  },
  {
   "cell_type": "code",
   "execution_count": 169,
   "metadata": {
    "ExecuteTime": {
     "end_time": "2020-03-13T17:23:00.643152Z",
     "start_time": "2020-03-13T17:23:00.562506Z"
    },
    "collapsed": true,
    "scrolled": true
   },
   "outputs": [],
   "source": [
    "hog1 = reader.Reader('out.faa','test_hog1.faa','hog1')\n",
    "ptp3 = reader.Reader('ptp3_out.faa','ptp3')\n",
    "tuples, headers, seqs = ptp3.get_data()"
   ]
  },
  {
   "cell_type": "markdown",
   "metadata": {},
   "source": [
    "## Extract gene IDs and strain IDs from gene annotations"
   ]
  },
  {
   "cell_type": "code",
   "execution_count": 170,
   "metadata": {
    "ExecuteTime": {
     "end_time": "2020-03-13T17:23:04.957452Z",
     "start_time": "2020-03-13T17:23:04.904438Z"
    },
    "code_folding": [
     0
    ],
    "collapsed": false,
    "scrolled": true
   },
   "outputs": [],
   "source": [
    "# Parse headers to get geneID and strainID lists\n",
    "geneID = []\n",
    "strainID = []\n",
    "for i in range(len(headers)):\n",
    "    geneID.append(headers[i].split('>')[1].split(' ')[0])\n",
    "    strainID.append(headers[i].split(']')[0].split(' ')[len(headers[i].split(']')[0].split(' '))-1])"
   ]
  },
  {
   "cell_type": "markdown",
   "metadata": {},
   "source": [
    "# Identify conserved motifs"
   ]
  },
  {
   "cell_type": "code",
   "execution_count": 171,
   "metadata": {
    "ExecuteTime": {
     "end_time": "2020-03-13T17:23:05.720404Z",
     "start_time": "2020-03-13T17:23:05.682196Z"
    },
    "code_folding": [
     0
    ],
    "collapsed": true
   },
   "outputs": [],
   "source": [
    "## USER INPUTS ## \n",
    "\n",
    "# Motif sequence \n",
    "mot2search = re.compile('SP')\n",
    "\n",
    "# Reference sequence number\n",
    "ref_num = 0"
   ]
  },
  {
   "cell_type": "code",
   "execution_count": 199,
   "metadata": {
    "ExecuteTime": {
     "end_time": "2020-03-13T17:29:46.091093Z",
     "start_time": "2020-03-13T17:29:46.015600Z"
    },
    "code_folding": [
     0,
     1
    ],
    "collapsed": true
   },
   "outputs": [],
   "source": [
    "# Define functions \n",
    "def searchmotif(motif, seq):\n",
    "        hits = motif.finditer(str(seq))\n",
    "        n = 0\n",
    "        mot_spec = []\n",
    "        mot_freq = []\n",
    "        for hsp in hits:\n",
    "            n += 1\n",
    "            mot_spec.append((hsp.start(), hsp.end(), hsp.group()))\n",
    "            mot_freq.append(n)\n",
    "        return mot_spec\n",
    "\n",
    "class Scoring: \n",
    "\n",
    "    def extract(list):\n",
    "        return [item[0] for item in list] \n",
    "   \n",
    "    def refPoint(search):\n",
    "        refPoints = [item[0] for item in search]\n",
    "        return refPoints\n",
    "\n",
    "\n",
    "    def diffScore(search):\n",
    "        \"\"\" This function finds the difference in location\n",
    "        between the nth and the (n + 1)th  occurrence of \n",
    "        the protein motif\"\"\"\n",
    "        refPoints = Scoring.refPoint(search)\n",
    "        diffScores = [y-x for x,y in zip(refPoints,refPoints[1:])]\n",
    "        return diffScores\n",
    "\n",
    "    def anchorDict(refs, diffs):\n",
    "        keys = diffs\n",
    "        values = [[x,y] for x,y in zip(refs,refs[1:])] \n",
    "        anchor = dict(zip(keys,values))\n",
    "        return anchor\n",
    "   \n",
    "    def isConservedAt(testDict, anchorDict):\n",
    "        dict1Set = set(testDict)\n",
    "        dict2Set = set(anchorDict)\n",
    "        conservList = []\n",
    "        for key in dict1Set.intersection(dict2Set):\n",
    "            conservList.append(anchorDict[key])\n",
    "        results =  flat_list = [item for sublist in conservList for item in sublist]\n",
    "        condensed_results = list(dict.fromkeys(results))\n",
    "        return condensed_results"
   ]
  },
  {
   "cell_type": "code",
   "execution_count": 177,
   "metadata": {
    "ExecuteTime": {
     "end_time": "2020-03-13T17:24:33.680423Z",
     "start_time": "2020-03-13T17:24:33.620709Z"
    },
    "code_folding": [],
    "collapsed": false
   },
   "outputs": [],
   "source": [
    "# Calculate all necessary information\n",
    "diff = []\n",
    "ref = []\n",
    "dicts = []\n",
    "for i in range(len(seqs)):\n",
    "    seq1Motif = searchmotif(mot2search,seqs[i])\n",
    "    diff.append(Scoring.diffScore(seq1Motif))\n",
    "    ref.append(Scoring.refPoint(seq1Motif))\n",
    "    dicts.append(Scoring.anchorDict(ref[i],diff[i]))"
   ]
  },
  {
   "cell_type": "markdown",
   "metadata": {
    "ExecuteTime": {
     "end_time": "2020-03-13T14:14:32.270150Z",
     "start_time": "2020-03-13T14:14:32.207394Z"
    }
   },
   "source": [
    "# Create tables summarizing conserved motifs"
   ]
  },
  {
   "cell_type": "code",
   "execution_count": 200,
   "metadata": {
    "ExecuteTime": {
     "end_time": "2020-03-13T17:29:48.094788Z",
     "start_time": "2020-03-13T17:29:47.961077Z"
    },
    "collapsed": false
   },
   "outputs": [
    {
     "data": {
      "text/html": [
       "<div>\n",
       "<style scoped>\n",
       "    .dataframe tbody tr th:only-of-type {\n",
       "        vertical-align: middle;\n",
       "    }\n",
       "\n",
       "    .dataframe tbody tr th {\n",
       "        vertical-align: top;\n",
       "    }\n",
       "\n",
       "    .dataframe thead th {\n",
       "        text-align: right;\n",
       "    }\n",
       "</style>\n",
       "<table border=\"1\" class=\"dataframe\">\n",
       "  <thead>\n",
       "    <tr style=\"text-align: right;\">\n",
       "      <th></th>\n",
       "      <th>Gene ID</th>\n",
       "      <th>Strain ID</th>\n",
       "      <th>Reference position 52</th>\n",
       "      <th>Reference position 57</th>\n",
       "      <th>Reference position 66</th>\n",
       "      <th>Reference position 247</th>\n",
       "      <th>Reference position 271</th>\n",
       "      <th>Reference position 294</th>\n",
       "      <th>Reference position 296</th>\n",
       "      <th>Reference position 304</th>\n",
       "      <th>Reference position 310</th>\n",
       "      <th># of new motifs</th>\n",
       "    </tr>\n",
       "  </thead>\n",
       "  <tbody>\n",
       "    <tr>\n",
       "      <th>0</th>\n",
       "      <td>DAA07735.2</td>\n",
       "      <td>S288C</td>\n",
       "      <td>True</td>\n",
       "      <td>True</td>\n",
       "      <td>True</td>\n",
       "      <td>True</td>\n",
       "      <td>True</td>\n",
       "      <td>True</td>\n",
       "      <td>True</td>\n",
       "      <td>True</td>\n",
       "      <td>True</td>\n",
       "      <td>0</td>\n",
       "    </tr>\n",
       "    <tr>\n",
       "      <th>1</th>\n",
       "      <td>EEU06494.1</td>\n",
       "      <td>JAY291</td>\n",
       "      <td>True</td>\n",
       "      <td>True</td>\n",
       "      <td>True</td>\n",
       "      <td>True</td>\n",
       "      <td>True</td>\n",
       "      <td>True</td>\n",
       "      <td>True</td>\n",
       "      <td>True</td>\n",
       "      <td>True</td>\n",
       "      <td>0</td>\n",
       "    </tr>\n",
       "    <tr>\n",
       "      <th>2</th>\n",
       "      <td>EGA79204.1</td>\n",
       "      <td>Vin13</td>\n",
       "      <td>True</td>\n",
       "      <td>True</td>\n",
       "      <td>True</td>\n",
       "      <td>True</td>\n",
       "      <td>True</td>\n",
       "      <td>True</td>\n",
       "      <td>True</td>\n",
       "      <td>True</td>\n",
       "      <td>True</td>\n",
       "      <td>0</td>\n",
       "    </tr>\n",
       "    <tr>\n",
       "      <th>3</th>\n",
       "      <td>CAY79250.1</td>\n",
       "      <td>EC1118</td>\n",
       "      <td>True</td>\n",
       "      <td>True</td>\n",
       "      <td>True</td>\n",
       "      <td>True</td>\n",
       "      <td>True</td>\n",
       "      <td>True</td>\n",
       "      <td>True</td>\n",
       "      <td>True</td>\n",
       "      <td>True</td>\n",
       "      <td>0</td>\n",
       "    </tr>\n",
       "    <tr>\n",
       "      <th>4</th>\n",
       "      <td>GAA22908.1</td>\n",
       "      <td>7</td>\n",
       "      <td>True</td>\n",
       "      <td>True</td>\n",
       "      <td>True</td>\n",
       "      <td>True</td>\n",
       "      <td>True</td>\n",
       "      <td>True</td>\n",
       "      <td>True</td>\n",
       "      <td>True</td>\n",
       "      <td>True</td>\n",
       "      <td>0</td>\n",
       "    </tr>\n",
       "  </tbody>\n",
       "</table>\n",
       "</div>"
      ],
      "text/plain": [
       "      Gene ID Strain ID  Reference position 52  Reference position 57  \\\n",
       "0  DAA07735.2     S288C                   True                   True   \n",
       "1  EEU06494.1    JAY291                   True                   True   \n",
       "2  EGA79204.1     Vin13                   True                   True   \n",
       "3  CAY79250.1    EC1118                   True                   True   \n",
       "4  GAA22908.1         7                   True                   True   \n",
       "\n",
       "   Reference position 66  Reference position 247  Reference position 271  \\\n",
       "0                   True                    True                    True   \n",
       "1                   True                    True                    True   \n",
       "2                   True                    True                    True   \n",
       "3                   True                    True                    True   \n",
       "4                   True                    True                    True   \n",
       "\n",
       "   Reference position 294  Reference position 296  Reference position 304  \\\n",
       "0                    True                    True                    True   \n",
       "1                    True                    True                    True   \n",
       "2                    True                    True                    True   \n",
       "3                    True                    True                    True   \n",
       "4                    True                    True                    True   \n",
       "\n",
       "   Reference position 310  # of new motifs  \n",
       "0                    True                0  \n",
       "1                    True                0  \n",
       "2                    True                0  \n",
       "3                    True                0  \n",
       "4                    True                0  "
      ]
     },
     "execution_count": 200,
     "metadata": {},
     "output_type": "execute_result"
    }
   ],
   "source": [
    "detailed = {'Gene ID':geneID, 'Strain ID':strainID}\n",
    "detailed_data_frame = pd.DataFrame.from_dict(detailed)\n",
    "\n",
    "conservation = np.empty([len(seqs),len(ref[ref_num])])\n",
    "new_motifs = []\n",
    "for i in range(len(seqs)):\n",
    "    conserved = Scoring.isConservedAt(dicts[i],dicts[ref_num])\n",
    "    for j in range(len(ref[ref_num])):\n",
    "        if ref[0][j] in conserved:\n",
    "            conservation[i][j] = True\n",
    "        else:\n",
    "            conservation[i][j] = False\n",
    "    new_motifs += [len(ref[i])-len(conserved)]\n",
    "\n",
    "for i in range(len(ref[ref_num])):\n",
    "    detailed_data_frame['Reference position '+str(ref[0][i])] = conservation[:,i]==True\n",
    "\n",
    "detailed_data_frame['# of new motifs'] = new_motifs\n",
    "\n",
    "detailed_data_frame.head()"
   ]
  },
  {
   "cell_type": "code",
   "execution_count": 198,
   "metadata": {
    "ExecuteTime": {
     "end_time": "2020-03-13T17:29:26.428773Z",
     "start_time": "2020-03-13T17:29:26.370825Z"
    },
    "collapsed": false
   },
   "outputs": [
    {
     "data": {
      "text/plain": [
       "[294, 296, 52, 57, 304, 310, 296, 304, 57, 66, 66, 247, 271, 294, 247, 271]"
      ]
     },
     "execution_count": 198,
     "metadata": {},
     "output_type": "execute_result"
    }
   ],
   "source": []
  },
  {
   "cell_type": "code",
   "execution_count": 184,
   "metadata": {
    "ExecuteTime": {
     "end_time": "2020-03-13T17:26:10.974334Z",
     "start_time": "2020-03-13T17:26:10.926231Z"
    },
    "collapsed": false
   },
   "outputs": [
    {
     "data": {
      "text/plain": [
       "{5: [52, 57],\n",
       " 9: [57, 66],\n",
       " 181: [66, 247],\n",
       " 24: [247, 271],\n",
       " 23: [271, 294],\n",
       " 2: [294, 296],\n",
       " 8: [296, 304],\n",
       " 6: [304, 310]}"
      ]
     },
     "execution_count": 184,
     "metadata": {},
     "output_type": "execute_result"
    }
   ],
   "source": [
    "dicts[0]"
   ]
  },
  {
   "cell_type": "code",
   "execution_count": null,
   "metadata": {
    "collapsed": true
   },
   "outputs": [],
   "source": []
  }
 ],
 "metadata": {
  "anaconda-cloud": {},
  "hide_input": false,
  "kernelspec": {
   "display_name": "Python [python3]",
   "language": "python",
   "name": "Python [python3]"
  },
  "language_info": {
   "codemirror_mode": {
    "name": "ipython",
    "version": 3
   },
   "file_extension": ".py",
   "mimetype": "text/x-python",
   "name": "python",
   "nbconvert_exporter": "python",
   "pygments_lexer": "ipython3",
   "version": "3.6.8"
  },
  "latex_envs": {
   "LaTeX_envs_menu_present": true,
   "autocomplete": true,
   "bibliofile": "biblio.bib",
   "cite_by": "apalike",
   "current_citInitial": 1,
   "eqLabelWithNumbers": true,
   "eqNumInitial": 1,
   "hotkeys": {
    "equation": "Ctrl-E",
    "itemize": "Ctrl-I"
   },
   "labels_anchors": false,
   "latex_user_defs": false,
   "report_style_numbering": false,
   "user_envs_cfg": false
  },
  "toc": {
   "colors": {
    "hover_highlight": "#DAA520",
    "navigate_num": "#000000",
    "navigate_text": "#333333",
    "running_highlight": "#FF0000",
    "selected_highlight": "#FFD700",
    "sidebar_border": "#EEEEEE",
    "wrapper_background": "#FFFFFF"
   },
   "moveMenuLeft": true,
   "nav_menu": {
    "height": "84px",
    "width": "252px"
   },
   "navigate_menu": true,
   "number_sections": true,
   "sideBar": true,
   "threshold": 4,
   "toc_cell": false,
   "toc_section_display": "block",
   "toc_window_display": false,
   "widenNotebook": false
  },
  "varInspector": {
   "cols": {
    "lenName": 16,
    "lenType": 16,
    "lenVar": 40
   },
   "kernels_config": {
    "python": {
     "delete_cmd_postfix": "",
     "delete_cmd_prefix": "del ",
     "library": "var_list.py",
     "varRefreshCmd": "print(var_dic_list())"
    },
    "r": {
     "delete_cmd_postfix": ") ",
     "delete_cmd_prefix": "rm(",
     "library": "var_list.r",
     "varRefreshCmd": "cat(var_dic_list()) "
    }
   },
   "types_to_exclude": [
    "module",
    "function",
    "builtin_function_or_method",
    "instance",
    "_Feature"
   ],
   "window_display": false
  }
 },
 "nbformat": 4,
 "nbformat_minor": 2
}
