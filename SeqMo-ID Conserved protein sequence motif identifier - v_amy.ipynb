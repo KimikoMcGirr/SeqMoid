{
 "cells": [
  {
   "cell_type": "markdown",
   "metadata": {},
   "source": [
    "# SeqMo-ID:"
   ]
  },
  {
   "cell_type": "markdown",
   "metadata": {},
   "source": [
    "markdown about seqmoid"
   ]
  },
  {
   "cell_type": "markdown",
   "metadata": {},
   "source": [
    "# Packages and settings"
   ]
  },
  {
   "cell_type": "code",
   "execution_count": 1,
   "metadata": {
    "ExecuteTime": {
     "end_time": "2020-03-13T13:34:07.112986Z",
     "start_time": "2020-03-13T13:34:04.692311Z"
    },
    "collapsed": true
   },
   "outputs": [],
   "source": [
    "%matplotlib inline\n",
    "import os\n",
    "import re\n",
    "import string\n",
    "import pandas as pd\n",
    "import matplotlib.pyplot as plt\n",
    "import seaborn as sns\n",
    "from collections import Counter\n",
    "import numpy as np"
   ]
  },
  {
   "cell_type": "code",
   "execution_count": 2,
   "metadata": {
    "ExecuteTime": {
     "end_time": "2020-03-13T13:34:21.955591Z",
     "start_time": "2020-03-13T13:34:21.776648Z"
    },
    "collapsed": false
   },
   "outputs": [],
   "source": [
    "%load_ext autoreload\n",
    "%autoreload 2\n",
    "\n",
    "import sys\n",
    "sys.path.insert(1, './src')\n",
    "\n",
    "import reader"
   ]
  },
  {
   "cell_type": "code",
   "execution_count": 3,
   "metadata": {
    "ExecuteTime": {
     "end_time": "2020-03-13T13:34:26.132990Z",
     "start_time": "2020-03-13T13:34:26.059444Z"
    },
    "collapsed": true
   },
   "outputs": [],
   "source": [
    "sns.set(style=\"whitegrid\")\n",
    "plt.rcParams['figure.figsize'] = [10.0, 8.0]\n",
    "plt.rcParams['axes.titlesize'] = 20\n",
    "plt.rcParams['axes.labelsize'] = 18\n",
    "plt.rcParams['xtick.labelsize'] = 14\n",
    "plt.rcParams['ytick.labelsize'] = 14\n",
    "plt.rcParams['grid.linestyle'] = '-'\n",
    "plt.rcParams['legend.fontsize'] = 14\n",
    "colors = [i['color'] for i in plt.rcParams['axes.prop_cycle']]"
   ]
  },
  {
   "cell_type": "markdown",
   "metadata": {},
   "source": [
    "# Get Data from NCBI"
   ]
  },
  {
   "cell_type": "code",
   "execution_count": 12,
   "metadata": {
    "ExecuteTime": {
     "end_time": "2020-03-12T21:45:29.335524Z",
     "start_time": "2020-03-12T21:45:29.219834Z"
    },
    "code_folding": [],
    "collapsed": true
   },
   "outputs": [],
   "source": [
    "### ADD BASH COMMANDS ###"
   ]
  },
  {
   "cell_type": "markdown",
   "metadata": {},
   "source": [
    "## Test data\n",
    "out.faa -> fasta file output from edirect pipeline"
   ]
  },
  {
   "cell_type": "code",
   "execution_count": 4,
   "metadata": {
    "ExecuteTime": {
     "end_time": "2020-03-13T13:34:38.158060Z",
     "start_time": "2020-03-13T13:34:38.102604Z"
    },
    "collapsed": true,
    "scrolled": true
   },
   "outputs": [],
   "source": [
    "hog1 = reader.Reader('out.faa','test_hog1.faa','hog1')\n",
    "tuples, headers, seqs = hog1.get_data()"
   ]
  },
  {
   "cell_type": "markdown",
   "metadata": {},
   "source": [
    "## Extract gene IDs and strain IDs from gene annotations"
   ]
  },
  {
   "cell_type": "code",
   "execution_count": 29,
   "metadata": {
    "ExecuteTime": {
     "end_time": "2020-03-13T13:50:03.921664Z",
     "start_time": "2020-03-13T13:50:03.861719Z"
    },
    "code_folding": [
     0
    ],
    "collapsed": false,
    "scrolled": true
   },
   "outputs": [],
   "source": [
    "# Parse headers to get geneID and strainID lists\n",
    "geneID = []\n",
    "strainID = []\n",
    "for i in range(len(headers)):\n",
    "    geneID.append(headers[i].split('>')[1].split(' ')[0])\n",
    "    strainID.append(headers[i].split(']')[0].split(' ')[len(headers[i].split(']')[0].split(' '))-1])"
   ]
  },
  {
   "cell_type": "markdown",
   "metadata": {},
   "source": [
    "# Identify conserved motifs"
   ]
  },
  {
   "cell_type": "code",
   "execution_count": 157,
   "metadata": {
    "ExecuteTime": {
     "end_time": "2020-03-13T15:34:24.879578Z",
     "start_time": "2020-03-13T15:34:24.831961Z"
    },
    "code_folding": [
     0
    ],
    "collapsed": true
   },
   "outputs": [],
   "source": [
    "## USER INPUTS ## \n",
    "\n",
    "# Motif sequence \n",
    "mot2search = re.compile('SP')\n",
    "\n",
    "# Reference sequence number\n",
    "ref_num = 0"
   ]
  },
  {
   "cell_type": "code",
   "execution_count": 158,
   "metadata": {
    "ExecuteTime": {
     "end_time": "2020-03-13T15:34:25.364294Z",
     "start_time": "2020-03-13T15:34:25.295272Z"
    },
    "code_folding": [
     0,
     1
    ],
    "collapsed": true
   },
   "outputs": [],
   "source": [
    "# Define functions \n",
    "def searchmotif(motif, seq):\n",
    "        hits = motif.finditer(str(seq))\n",
    "        n = 0\n",
    "        mot_spec = []\n",
    "        mot_freq = []\n",
    "        for hsp in hits:\n",
    "            n += 1\n",
    "            mot_spec.append((hsp.start(), hsp.end(), hsp.group()))\n",
    "            mot_freq.append(n)\n",
    "        return mot_spec\n",
    "\n",
    "class Scoring: \n",
    "\n",
    "    def extract(list):\n",
    "        return [item[0] for item in list] \n",
    "   \n",
    "    def refPoint(search):\n",
    "        refPoints = [item[0] for item in search]\n",
    "        return refPoints\n",
    "\n",
    "\n",
    "    def diffScore(search):\n",
    "        \"\"\" This function finds the difference in location\n",
    "        between the nth and the (n + 1)th  occurrence of \n",
    "        the protein motif\"\"\"\n",
    "        refPoints = Scoring.refPoint(search)\n",
    "        diffScores = [y-x for x,y in zip(refPoints,refPoints[1:])]\n",
    "        return diffScores\n",
    "\n",
    "    def anchorDict(refs, diffs):\n",
    "        keys = diffs\n",
    "        values = [[x,y] for x,y in zip(refs,refs[1:])] \n",
    "        anchor = dict(zip(keys,values))\n",
    "        return anchor\n",
    "   \n",
    "    def isConservedAt(testDict, anchorDict):\n",
    "        dict1Set = set(testDict)\n",
    "        dict2Set = set(anchorDict)\n",
    "        conservList = []\n",
    "        for key in dict1Set.intersection(dict2Set):\n",
    "            conservList.append(anchorDict[key])\n",
    "        results =  sorted((conservList[0]))\n",
    "        condensed_results = list(dict.fromkeys(results))\n",
    "        return condensed_results\n",
    "        print(results)"
   ]
  },
  {
   "cell_type": "code",
   "execution_count": 159,
   "metadata": {
    "ExecuteTime": {
     "end_time": "2020-03-13T15:34:25.688499Z",
     "start_time": "2020-03-13T15:34:25.616441Z"
    },
    "code_folding": [
     0
    ],
    "collapsed": false
   },
   "outputs": [],
   "source": [
    "# Calculate all necessary information\n",
    "diff = []\n",
    "ref = []\n",
    "dicts = []\n",
    "for i in range(len(seqs)):\n",
    "    seq1Motif = searchmotif(mot2search,seqs[1])\n",
    "    diff.append(Scoring.diffScore(seq1Motif))\n",
    "    ref.append(Scoring.refPoint(seq1Motif))\n",
    "    dicts.append(Scoring.anchorDict(ref[i],diff[i]))"
   ]
  },
  {
   "cell_type": "markdown",
   "metadata": {
    "ExecuteTime": {
     "end_time": "2020-03-13T14:14:32.270150Z",
     "start_time": "2020-03-13T14:14:32.207394Z"
    }
   },
   "source": [
    "# Create tables summarizing conserved motifs"
   ]
  },
  {
   "cell_type": "code",
   "execution_count": 160,
   "metadata": {
    "ExecuteTime": {
     "end_time": "2020-03-13T15:34:26.404207Z",
     "start_time": "2020-03-13T15:34:26.304811Z"
    },
    "collapsed": false
   },
   "outputs": [
    {
     "data": {
      "text/html": [
       "<div>\n",
       "<style scoped>\n",
       "    .dataframe tbody tr th:only-of-type {\n",
       "        vertical-align: middle;\n",
       "    }\n",
       "\n",
       "    .dataframe tbody tr th {\n",
       "        vertical-align: top;\n",
       "    }\n",
       "\n",
       "    .dataframe thead th {\n",
       "        text-align: right;\n",
       "    }\n",
       "</style>\n",
       "<table border=\"1\" class=\"dataframe\">\n",
       "  <thead>\n",
       "    <tr style=\"text-align: right;\">\n",
       "      <th></th>\n",
       "      <th>Gene ID</th>\n",
       "      <th>Strain ID</th>\n",
       "      <th>Reference position 90</th>\n",
       "      <th>Reference position 234</th>\n",
       "      <th># of new motifs</th>\n",
       "    </tr>\n",
       "  </thead>\n",
       "  <tbody>\n",
       "    <tr>\n",
       "      <th>0</th>\n",
       "      <td>DAA09427.1</td>\n",
       "      <td>S288C</td>\n",
       "      <td>True</td>\n",
       "      <td>True</td>\n",
       "      <td>0</td>\n",
       "    </tr>\n",
       "    <tr>\n",
       "      <th>1</th>\n",
       "      <td>EEU06881.1</td>\n",
       "      <td>JAY291</td>\n",
       "      <td>True</td>\n",
       "      <td>True</td>\n",
       "      <td>0</td>\n",
       "    </tr>\n",
       "    <tr>\n",
       "      <th>2</th>\n",
       "      <td>EGA73955.1</td>\n",
       "      <td>AWRI796</td>\n",
       "      <td>True</td>\n",
       "      <td>True</td>\n",
       "      <td>0</td>\n",
       "    </tr>\n",
       "    <tr>\n",
       "      <th>3</th>\n",
       "      <td>EGA77909.1</td>\n",
       "      <td>Vin13</td>\n",
       "      <td>True</td>\n",
       "      <td>True</td>\n",
       "      <td>0</td>\n",
       "    </tr>\n",
       "    <tr>\n",
       "      <th>4</th>\n",
       "      <td>EGA85827.1</td>\n",
       "      <td>VL3</td>\n",
       "      <td>True</td>\n",
       "      <td>True</td>\n",
       "      <td>0</td>\n",
       "    </tr>\n",
       "  </tbody>\n",
       "</table>\n",
       "</div>"
      ],
      "text/plain": [
       "      Gene ID Strain ID  Reference position 90  Reference position 234  \\\n",
       "0  DAA09427.1     S288C                   True                    True   \n",
       "1  EEU06881.1    JAY291                   True                    True   \n",
       "2  EGA73955.1   AWRI796                   True                    True   \n",
       "3  EGA77909.1     Vin13                   True                    True   \n",
       "4  EGA85827.1       VL3                   True                    True   \n",
       "\n",
       "   # of new motifs  \n",
       "0                0  \n",
       "1                0  \n",
       "2                0  \n",
       "3                0  \n",
       "4                0  "
      ]
     },
     "execution_count": 160,
     "metadata": {},
     "output_type": "execute_result"
    }
   ],
   "source": [
    "detailed = {'Gene ID':geneID, 'Strain ID':strainID}\n",
    "detailed_data_frame = pd.DataFrame.from_dict(detailed)\n",
    "\n",
    "conservation = np.empty([len(seqs),len(ref[ref_num])])\n",
    "new_motifs = []\n",
    "for i in range(len(seqs)):\n",
    "    conserved = Scoring.isConservedAt(dicts[i],dicts[ref_num])\n",
    "    for j in range(len(ref[ref_num])):\n",
    "        if ref[0][j] in conserved:\n",
    "            conservation[i][j] = True\n",
    "        else:\n",
    "            conservation[i][j] = False\n",
    "    new_motifs += [len(ref[i])-len(conserved)]\n",
    "\n",
    "for i in range(len(ref[ref_num])):\n",
    "    detailed_data_frame['Reference position '+str(ref[0][i])] = conservation[:,i]==True\n",
    "\n",
    "detailed_data_frame['# of new motifs'] = new_motifs\n",
    "\n",
    "detailed_data_frame.head()"
   ]
  },
  {
   "cell_type": "code",
   "execution_count": null,
   "metadata": {
    "collapsed": true
   },
   "outputs": [],
   "source": []
  }
 ],
 "metadata": {
  "anaconda-cloud": {},
  "hide_input": false,
  "kernelspec": {
   "display_name": "Python [python3]",
   "language": "python",
   "name": "Python [python3]"
  },
  "language_info": {
   "codemirror_mode": {
    "name": "ipython",
    "version": 3
   },
   "file_extension": ".py",
   "mimetype": "text/x-python",
   "name": "python",
   "nbconvert_exporter": "python",
   "pygments_lexer": "ipython3",
   "version": "3.6.8"
  },
  "latex_envs": {
   "LaTeX_envs_menu_present": true,
   "autocomplete": true,
   "bibliofile": "biblio.bib",
   "cite_by": "apalike",
   "current_citInitial": 1,
   "eqLabelWithNumbers": true,
   "eqNumInitial": 1,
   "hotkeys": {
    "equation": "Ctrl-E",
    "itemize": "Ctrl-I"
   },
   "labels_anchors": false,
   "latex_user_defs": false,
   "report_style_numbering": false,
   "user_envs_cfg": false
  },
  "toc": {
   "colors": {
    "hover_highlight": "#DAA520",
    "navigate_num": "#000000",
    "navigate_text": "#333333",
    "running_highlight": "#FF0000",
    "selected_highlight": "#FFD700",
    "sidebar_border": "#EEEEEE",
    "wrapper_background": "#FFFFFF"
   },
   "moveMenuLeft": true,
   "nav_menu": {
    "height": "84px",
    "width": "252px"
   },
   "navigate_menu": true,
   "number_sections": true,
   "sideBar": true,
   "threshold": 4,
   "toc_cell": false,
   "toc_section_display": "block",
   "toc_window_display": false,
   "widenNotebook": false
  },
  "varInspector": {
   "cols": {
    "lenName": 16,
    "lenType": 16,
    "lenVar": 40
   },
   "kernels_config": {
    "python": {
     "delete_cmd_postfix": "",
     "delete_cmd_prefix": "del ",
     "library": "var_list.py",
     "varRefreshCmd": "print(var_dic_list())"
    },
    "r": {
     "delete_cmd_postfix": ") ",
     "delete_cmd_prefix": "rm(",
     "library": "var_list.r",
     "varRefreshCmd": "cat(var_dic_list()) "
    }
   },
   "types_to_exclude": [
    "module",
    "function",
    "builtin_function_or_method",
    "instance",
    "_Feature"
   ],
   "window_display": false
  }
 },
 "nbformat": 4,
 "nbformat_minor": 2
}
