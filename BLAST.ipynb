{
 "cells": [
  {
   "cell_type": "code",
   "execution_count": 1,
   "metadata": {
    "ExecuteTime": {
     "end_time": "2020-03-11T18:59:30.561233Z",
     "start_time": "2020-03-11T18:59:30.555245Z"
    }
   },
   "outputs": [],
   "source": [
    "gene_name = \"VPH1\" # can be what you want to use in this notebook; not used to match anything external\n",
    "size_expected = 2523 #use bp length of coding sequence at SGD\n",
    "get_seq_from_link = True #Change what is between quotes on next line if `True`\n",
    "link_to_FASTA_of_gene = \"C:/Users/sksuzuki/Documents/Research/Thesis/hog1_consensus_site_muts/aligned_cp_for_counting/trimmed_data/pbs2.txt\"\n",
    "#**Possible future enhancement would be to add getting the FASTA of the gene from Yeastmine with just systematic id using get_gene_genomic_seq_as_FASTA.py**"
   ]
  },
  {
   "cell_type": "code",
   "execution_count": 6,
   "metadata": {
    "ExecuteTime": {
     "end_time": "2020-03-11T19:19:34.560726Z",
     "start_time": "2020-03-11T19:19:17.966365Z"
    }
   },
   "outputs": [
    {
     "name": "stderr",
     "output_type": "stream",
     "text": [
      "  % Total    % Received % Xferd  Average Speed   Time    Time     Time  Current\n",
      "                                 Dload  Upload   Total   Spent    Left  Speed\n",
      "\n",
      "  0     0    0     0    0     0      0      0 --:--:-- --:--:-- --:--:--     0\n",
      "100   162  100   162    0     0    162      0  0:00:01 --:--:--  0:00:01  1472\n",
      "\n",
      "  0 3687k    0  2120    0     0   2120      0  0:29:41 --:--:--  0:29:41  2120\n",
      "  3 3687k    3  127k    0     0   127k      0  0:00:28  0:00:01  0:00:27  210k\n",
      " 14 3687k   14  527k    0     0   263k      0  0:00:13  0:00:02  0:00:11  317k\n",
      " 24 3687k   24  911k    0     0   303k      0  0:00:12  0:00:03  0:00:09  352k\n",
      "100 3687k  100 3687k    0     0   921k      0  0:00:04  0:00:04 --:--:-- 1043k\n",
      "'unzip' is not recognized as an internal or external command,\n",
      "operable program or batch file.\n",
      "  % Total    % Received % Xferd  Average Speed   Time    Time     Time  Current\n",
      "                                 Dload  Upload   Total   Spent    Left  Speed\n",
      "\n",
      "  0     0    0     0    0     0      0      0 --:--:-- --:--:-- --:--:--     0\n",
      "100   162  100   162    0     0    162      0  0:00:01 --:--:--  0:00:01  3446\n",
      "\n",
      " 32 3387k   32 1103k    0     0  1103k      0  0:00:03 --:--:--  0:00:03 1103k\n",
      "100 3387k  100 3387k    0     0  3387k      0  0:00:01  0:00:01 --:--:-- 4182k\n",
      "'unzip' is not recognized as an internal or external command,\n",
      "operable program or batch file.\n",
      "  % Total    % Received % Xferd  Average Speed   Time    Time     Time  Current\n",
      "                                 Dload  Upload   Total   Spent    Left  Speed\n",
      "\n",
      "  0     0    0     0    0     0      0      0 --:--:-- --:--:-- --:--:--     0\n",
      "100   162  100   162    0     0    162      0  0:00:01 --:--:--  0:00:01  3446\n",
      "\n",
      "  0 3348k    0  7638    0     0   7638      0  0:07:28 --:--:--  0:07:28  7638\n",
      " 73 3348k   73 2447k    0     0  2447k      0  0:00:01  0:00:01 --:--:-- 2943k\n",
      "100 3348k  100 3348k    0     0  3348k      0  0:00:01  0:00:01 --:--:-- 3341k\n",
      "'unzip' is not recognized as an internal or external command,\n",
      "operable program or batch file.\n",
      "  % Total    % Received % Xferd  Average Speed   Time    Time     Time  Current\n",
      "                                 Dload  Upload   Total   Spent    Left  Speed\n",
      "\n",
      "  0     0    0     0    0     0      0      0 --:--:-- --:--:-- --:--:--     0\n",
      "100   162  100   162    0     0    162      0  0:00:01 --:--:--  0:00:01  5225\n",
      "\n",
      " 28 3406k   28  975k    0     0   975k      0  0:00:03 --:--:--  0:00:03  975k\n",
      "100 3406k  100 3406k    0     0  3406k      0  0:00:01  0:00:01 --:--:-- 4206k\n",
      "'unzip' is not recognized as an internal or external command,\n",
      "operable program or batch file.\n",
      "  % Total    % Received % Xferd  Average Speed   Time    Time     Time  Current\n",
      "                                 Dload  Upload   Total   Spent    Left  Speed\n",
      "\n",
      "  0     0    0     0    0     0      0      0 --:--:-- --:--:-- --:--:--     0\n",
      "100   162  100   162    0     0    162      0  0:00:01 --:--:--  0:00:01  2076\n",
      "\n",
      "  0 3357k    0 10399    0     0  10399      0  0:05:30 --:--:--  0:05:30 10399\n",
      "100 3357k  100 3357k    0     0  3357k      0  0:00:01  0:00:01 --:--:-- 4286k\n",
      "'unzip' is not recognized as an internal or external command,\n",
      "operable program or batch file.\n",
      "  % Total    % Received % Xferd  Average Speed   Time    Time     Time  Current\n",
      "                                 Dload  Upload   Total   Spent    Left  Speed\n",
      "\n",
      "  0     0    0     0    0     0      0      0 --:--:-- --:--:-- --:--:--     0\n",
      "100   162  100   162    0     0    162      0  0:00:01 --:--:--  0:00:01  1741\n",
      "\n",
      "  9 3375k    9  319k    0     0   319k      0  0:00:10  0:00:01  0:00:09  319k\n",
      "100 3375k  100 3375k    0     0  3375k      0  0:00:01  0:00:01 --:--:-- 4447k\n",
      "'unzip' is not recognized as an internal or external command,\n",
      "operable program or batch file.\n",
      "  % Total    % Received % Xferd  Average Speed   Time    Time     Time  Current\n",
      "                                 Dload  Upload   Total   Spent    Left  Speed\n",
      "\n",
      "  0     0    0     0    0     0      0      0 --:--:-- --:--:-- --:--:--     0\n",
      "100   162  100   162    0     0    162      0  0:00:01 --:--:--  0:00:01  3521\n",
      "\n",
      "  0     0    0     0    0     0      0      0 --:--:-- --:--:-- --:--:--     0\n",
      "100 3332k  100 3332k    0     0  3332k      0  0:00:01 --:--:--  0:00:01 7626k\n",
      "'unzip' is not recognized as an internal or external command,\n",
      "operable program or batch file.\n",
      "  % Total    % Received % Xferd  Average Speed   Time    Time     Time  Current\n",
      "                                 Dload  Upload   Total   Spent    Left  Speed\n",
      "\n",
      "  0     0    0     0    0     0      0      0 --:--:-- --:--:-- --:--:--     0\n",
      "100   162  100   162    0     0    162      0  0:00:01 --:--:--  0:00:01  3521\n",
      "\n",
      "  7 3658k    7  287k    0     0   287k      0  0:00:12 --:--:--  0:00:12  287k\n",
      "100 3658k  100 3658k    0     0  3658k      0  0:00:01 --:--:--  0:00:01 11.1M\n",
      "'unzip' is not recognized as an internal or external command,\n",
      "operable program or batch file.\n",
      "  % Total    % Received % Xferd  Average Speed   Time    Time     Time  Current\n",
      "                                 Dload  Upload   Total   Spent    Left  Speed\n",
      "\n",
      "  0     0    0     0    0     0      0      0 --:--:-- --:--:-- --:--:--     0\n",
      "100   162  100   162    0     0    162      0  0:00:01 --:--:--  0:00:01  2076\n",
      "\n",
      "100 3350k  100 3350k    0     0  3350k      0  0:00:01 --:--:--  0:00:01 3350k\n",
      "'unzip' is not recognized as an internal or external command,\n",
      "operable program or batch file.\n",
      "  % Total    % Received % Xferd  Average Speed   Time    Time     Time  Current\n",
      "                                 Dload  Upload   Total   Spent    Left  Speed\n",
      "\n",
      "  0     0    0     0    0     0      0      0 --:--:-- --:--:-- --:--:--     0\n",
      "100   162  100   162    0     0    162      0  0:00:01 --:--:--  0:00:01  5225\n",
      "\n",
      "  0     0    0     0    0     0      0      0 --:--:-- --:--:-- --:--:--     0\n",
      "100 3349k  100 3349k    0     0  3349k      0  0:00:01 --:--:--  0:00:01 7157k\n",
      "'unzip' is not recognized as an internal or external command,\n",
      "operable program or batch file.\n",
      "  % Total    % Received % Xferd  Average Speed   Time    Time     Time  Current\n",
      "                                 Dload  Upload   Total   Spent    Left  Speed\n",
      "\n",
      "  0     0    0     0    0     0      0      0 --:--:-- --:--:-- --:--:--     0\n",
      "100   162  100   162    0     0    162      0  0:00:01 --:--:--  0:00:01  5225\n",
      "\n",
      "  0 3701k    0  7638    0     0   7638      0  0:08:16 --:--:--  0:08:16  7638\n",
      "100 3701k  100 3701k    0     0  3701k      0  0:00:01 --:--:--  0:00:01 12.8M\n",
      "'unzip' is not recognized as an internal or external command,\n",
      "operable program or batch file.\n",
      "  % Total    % Received % Xferd  Average Speed   Time    Time     Time  Current\n",
      "                                 Dload  Upload   Total   Spent    Left  Speed\n",
      "\n",
      "  0     0    0     0    0     0      0      0 --:--:-- --:--:-- --:--:--     0\n",
      "100   162  100   162    0     0    162      0  0:00:01 --:--:--  0:00:01  3446\n",
      "\n",
      " 76 3362k   76 2575k    0     0  2575k      0  0:00:01 --:--:--  0:00:01 2575k\n",
      "100 3362k  100 3362k    0     0  3362k      0  0:00:01 --:--:--  0:00:01 16.7M\n",
      "'unzip' is not recognized as an internal or external command,\n",
      "operable program or batch file.\n"
     ]
    }
   ],
   "source": [
    "import os\n",
    "file_needed = \"blast_to_df.py\"\n",
    "if not os.path.isfile(file_needed):\n",
    "    !curl -O https://raw.githubusercontent.com/fomightez/sequencework/master/blast-utilities/blast_to_df.py\n",
    "import pandas as pd\n",
    "# Prepare for getting PacBio (Yue et al 2017 sequences)\n",
    "#make a list of the strain designations\n",
    "yue_et_al_strains = [\"S288C\",\"DBVPG6044\",\"DBVPG6765\",\"SK1\",\"Y12\",\n",
    "                     \"YPS128\",\"UWOPS034614\",\"CBS432\",\"N44\",\"YPS138\",\n",
    "                     \"UFRJ50816\",\"UWOPS919171\"]\n",
    "# Get & unpack the genome sequences from strains \n",
    "for s in yue_et_al_strains:\n",
    "    !curl -LO http://yjx1217.github.io/Yeast_PacBio_2016/data/Nuclear_Genome/{s}.genome.fa.gz\n",
    "    !unzip -f {s}.genome.fa.gz"
   ]
  }
 ],
 "metadata": {
  "hide_input": false,
  "kernelspec": {
   "display_name": "Python 3",
   "language": "python",
   "name": "python3"
  },
  "language_info": {
   "codemirror_mode": {
    "name": "ipython",
    "version": 3
   },
   "file_extension": ".py",
   "mimetype": "text/x-python",
   "name": "python",
   "nbconvert_exporter": "python",
   "pygments_lexer": "ipython3",
   "version": "3.6.6"
  },
  "latex_envs": {
   "LaTeX_envs_menu_present": true,
   "autocomplete": true,
   "bibliofile": "biblio.bib",
   "cite_by": "apalike",
   "current_citInitial": 1,
   "eqLabelWithNumbers": true,
   "eqNumInitial": 1,
   "hotkeys": {
    "equation": "Ctrl-E",
    "itemize": "Ctrl-I"
   },
   "labels_anchors": false,
   "latex_user_defs": false,
   "report_style_numbering": false,
   "user_envs_cfg": false
  },
  "toc": {
   "colors": {
    "hover_highlight": "#DAA520",
    "navigate_num": "#000000",
    "navigate_text": "#333333",
    "running_highlight": "#FF0000",
    "selected_highlight": "#FFD700",
    "sidebar_border": "#EEEEEE",
    "wrapper_background": "#FFFFFF"
   },
   "moveMenuLeft": true,
   "nav_menu": {
    "height": "12px",
    "width": "252px"
   },
   "navigate_menu": true,
   "number_sections": true,
   "sideBar": true,
   "threshold": 4,
   "toc_cell": false,
   "toc_section_display": "block",
   "toc_window_display": false,
   "widenNotebook": false
  },
  "varInspector": {
   "cols": {
    "lenName": 16,
    "lenType": 16,
    "lenVar": 40
   },
   "kernels_config": {
    "python": {
     "delete_cmd_postfix": "",
     "delete_cmd_prefix": "del ",
     "library": "var_list.py",
     "varRefreshCmd": "print(var_dic_list())"
    },
    "r": {
     "delete_cmd_postfix": ") ",
     "delete_cmd_prefix": "rm(",
     "library": "var_list.r",
     "varRefreshCmd": "cat(var_dic_list()) "
    }
   },
   "types_to_exclude": [
    "module",
    "function",
    "builtin_function_or_method",
    "instance",
    "_Feature"
   ],
   "window_display": false
  }
 },
 "nbformat": 4,
 "nbformat_minor": 2
}
